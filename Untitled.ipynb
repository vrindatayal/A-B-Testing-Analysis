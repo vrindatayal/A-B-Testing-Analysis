{
 "cells": [
  {
   "cell_type": "code",
   "execution_count": 1,
   "id": "95ccc8fd",
   "metadata": {},
   "outputs": [],
   "source": [
    "import pandas as pd\n",
    "import numpy as np\n",
    "from scipy import stats\n",
    "\n"
   ]
  },
  {
   "cell_type": "code",
   "execution_count": 2,
   "id": "fcd351c2",
   "metadata": {},
   "outputs": [],
   "source": [
    "\n",
    "# Load the dataset\n",
    "df = pd.read_csv('online_shoppers_intention.csv')\n"
   ]
  },
  {
   "cell_type": "code",
   "execution_count": 3,
   "id": "b23181fd",
   "metadata": {},
   "outputs": [
    {
     "name": "stdout",
     "output_type": "stream",
     "text": [
      "First few rows of the dataset:\n",
      "   Administrative  Administrative_Duration  Informational  \\\n",
      "0               0                      0.0              0   \n",
      "1               0                      0.0              0   \n",
      "2               0                      0.0              0   \n",
      "3               0                      0.0              0   \n",
      "4               0                      0.0              0   \n",
      "\n",
      "   Informational_Duration  ProductRelated  ProductRelated_Duration  \\\n",
      "0                     0.0               1                 0.000000   \n",
      "1                     0.0               2                64.000000   \n",
      "2                     0.0               1                 0.000000   \n",
      "3                     0.0               2                 2.666667   \n",
      "4                     0.0              10               627.500000   \n",
      "\n",
      "   BounceRates  ExitRates  PageValues  SpecialDay Month  OperatingSystems  \\\n",
      "0         0.20       0.20         0.0         0.0   Feb                 1   \n",
      "1         0.00       0.10         0.0         0.0   Feb                 2   \n",
      "2         0.20       0.20         0.0         0.0   Feb                 4   \n",
      "3         0.05       0.14         0.0         0.0   Feb                 3   \n",
      "4         0.02       0.05         0.0         0.0   Feb                 3   \n",
      "\n",
      "   Browser  Region  TrafficType        VisitorType  Weekend  Revenue  \n",
      "0        1       1            1  Returning_Visitor    False    False  \n",
      "1        2       1            2  Returning_Visitor    False    False  \n",
      "2        1       9            3  Returning_Visitor    False    False  \n",
      "3        2       2            4  Returning_Visitor    False    False  \n",
      "4        3       1            4  Returning_Visitor     True    False  \n"
     ]
    }
   ],
   "source": [
    "# Display the first few rows of the dataset\n",
    "print(\"First few rows of the dataset:\")\n",
    "print(df.head())\n"
   ]
  },
  {
   "cell_type": "code",
   "execution_count": 4,
   "id": "5d148e94",
   "metadata": {},
   "outputs": [
    {
     "name": "stdout",
     "output_type": "stream",
     "text": [
      "\n",
      "Missing values in the dataset:\n",
      "Administrative             0\n",
      "Administrative_Duration    0\n",
      "Informational              0\n",
      "Informational_Duration     0\n",
      "ProductRelated             0\n",
      "ProductRelated_Duration    0\n",
      "BounceRates                0\n",
      "ExitRates                  0\n",
      "PageValues                 0\n",
      "SpecialDay                 0\n",
      "Month                      0\n",
      "OperatingSystems           0\n",
      "Browser                    0\n",
      "Region                     0\n",
      "TrafficType                0\n",
      "VisitorType                0\n",
      "Weekend                    0\n",
      "Revenue                    0\n",
      "dtype: int64\n"
     ]
    }
   ],
   "source": [
    "\n",
    "# Check for missing values\n",
    "print(\"\\nMissing values in the dataset:\")\n",
    "print(df.isnull().sum())\n"
   ]
  },
  {
   "cell_type": "code",
   "execution_count": 5,
   "id": "b121eb51",
   "metadata": {},
   "outputs": [
    {
     "name": "stdout",
     "output_type": "stream",
     "text": [
      "\n",
      "Basic statistics of the dataset:\n",
      "       Administrative  Administrative_Duration  Informational  \\\n",
      "count    12330.000000             12330.000000   12330.000000   \n",
      "mean         2.315166                80.818611       0.503569   \n",
      "std          3.321784               176.779107       1.270156   \n",
      "min          0.000000                 0.000000       0.000000   \n",
      "25%          0.000000                 0.000000       0.000000   \n",
      "50%          1.000000                 7.500000       0.000000   \n",
      "75%          4.000000                93.256250       0.000000   \n",
      "max         27.000000              3398.750000      24.000000   \n",
      "\n",
      "       Informational_Duration  ProductRelated  ProductRelated_Duration  \\\n",
      "count            12330.000000    12330.000000             12330.000000   \n",
      "mean                34.472398       31.731468              1194.746220   \n",
      "std                140.749294       44.475503              1913.669288   \n",
      "min                  0.000000        0.000000                 0.000000   \n",
      "25%                  0.000000        7.000000               184.137500   \n",
      "50%                  0.000000       18.000000               598.936905   \n",
      "75%                  0.000000       38.000000              1464.157214   \n",
      "max               2549.375000      705.000000             63973.522230   \n",
      "\n",
      "        BounceRates     ExitRates    PageValues    SpecialDay  \\\n",
      "count  12330.000000  12330.000000  12330.000000  12330.000000   \n",
      "mean       0.022191      0.043073      5.889258      0.061427   \n",
      "std        0.048488      0.048597     18.568437      0.198917   \n",
      "min        0.000000      0.000000      0.000000      0.000000   \n",
      "25%        0.000000      0.014286      0.000000      0.000000   \n",
      "50%        0.003112      0.025156      0.000000      0.000000   \n",
      "75%        0.016813      0.050000      0.000000      0.000000   \n",
      "max        0.200000      0.200000    361.763742      1.000000   \n",
      "\n",
      "       OperatingSystems       Browser        Region   TrafficType  \n",
      "count      12330.000000  12330.000000  12330.000000  12330.000000  \n",
      "mean           2.124006      2.357097      3.147364      4.069586  \n",
      "std            0.911325      1.717277      2.401591      4.025169  \n",
      "min            1.000000      1.000000      1.000000      1.000000  \n",
      "25%            2.000000      2.000000      1.000000      2.000000  \n",
      "50%            2.000000      2.000000      3.000000      2.000000  \n",
      "75%            3.000000      2.000000      4.000000      4.000000  \n",
      "max            8.000000     13.000000      9.000000     20.000000  \n"
     ]
    }
   ],
   "source": [
    "# Basic statistics of the dataset\n",
    "print(\"\\nBasic statistics of the dataset:\")\n",
    "print(df.describe())\n"
   ]
  },
  {
   "cell_type": "code",
   "execution_count": 6,
   "id": "d883a26a",
   "metadata": {},
   "outputs": [],
   "source": [
    "# Creating an A/B test scenario:\n",
    "# Let's assume 'SpecialDay' is the intervention we're testing (e.g., a special promotion)\n",
    "# We will treat SpecialDay > 0 as the treatment group and SpecialDay == 0 as the control group\n",
    "\n",
    "df['group'] = np.where(df['SpecialDay'] > 0, 'treatment', 'control')\n"
   ]
  },
  {
   "cell_type": "code",
   "execution_count": 7,
   "id": "c20c8ced",
   "metadata": {},
   "outputs": [],
   "source": [
    "# Converting 'Revenue' to binary (0 or 1) indicating conversion\n",
    "df['converted'] = df['Revenue'].astype(int)\n"
   ]
  },
  {
   "cell_type": "code",
   "execution_count": 8,
   "id": "f92cc7a3",
   "metadata": {},
   "outputs": [],
   "source": [
    "# Group by control and treatment\n",
    "control_group = df[df['group'] == 'control']\n",
    "treatment_group = df[df['group'] == 'treatment']\n"
   ]
  },
  {
   "cell_type": "code",
   "execution_count": 9,
   "id": "d5b59b42",
   "metadata": {},
   "outputs": [],
   "source": [
    "# Calculate conversion rates\n",
    "control_conversion_rate = control_group['converted'].mean()\n",
    "treatment_conversion_rate = treatment_group['converted'].mean()\n"
   ]
  },
  {
   "cell_type": "code",
   "execution_count": 10,
   "id": "5179c7cd",
   "metadata": {},
   "outputs": [],
   "source": [
    "# Number of users in each group\n",
    "n_control = control_group.shape[0]\n",
    "n_treatment = treatment_group.shape[0]\n"
   ]
  },
  {
   "cell_type": "code",
   "execution_count": 11,
   "id": "f0f5c3a5",
   "metadata": {},
   "outputs": [],
   "source": [
    "# Number of conversions in each group\n",
    "conversions_control = control_group['converted'].sum()\n",
    "conversions_treatment = treatment_group['converted'].sum()\n"
   ]
  },
  {
   "cell_type": "code",
   "execution_count": 12,
   "id": "bdc6aec9",
   "metadata": {},
   "outputs": [],
   "source": [
    "# Pooled conversion rate\n",
    "conversion_rate_pooled = (conversions_control + conversions_treatment) / (n_control + n_treatment)\n"
   ]
  },
  {
   "cell_type": "code",
   "execution_count": 13,
   "id": "693802e2",
   "metadata": {},
   "outputs": [],
   "source": [
    "# Standard error\n",
    "se = np.sqrt(conversion_rate_pooled * (1 - conversion_rate_pooled) * (1/n_control + 1/n_treatment))\n"
   ]
  },
  {
   "cell_type": "code",
   "execution_count": 14,
   "id": "c2412dc7",
   "metadata": {},
   "outputs": [],
   "source": [
    "# Z-score\n",
    "z = (treatment_conversion_rate - control_conversion_rate) / se\n"
   ]
  },
  {
   "cell_type": "code",
   "execution_count": 15,
   "id": "fd37b09c",
   "metadata": {},
   "outputs": [],
   "source": [
    "# P-value\n",
    "p_value = stats.norm.sf(abs(z)) * 2  # two-tailed test\n"
   ]
  },
  {
   "cell_type": "code",
   "execution_count": 16,
   "id": "a55bb8c8",
   "metadata": {},
   "outputs": [
    {
     "name": "stdout",
     "output_type": "stream",
     "text": [
      "Control Group Conversion Rate: 0.1653\n",
      "Treatment Group Conversion Rate: 0.0616\n",
      "Pooled Conversion Rate: 0.1547\n",
      "Standard Error: 0.0108\n",
      "Z-score: -9.6149\n",
      "P-value: 0.0000\n"
     ]
    }
   ],
   "source": [
    "# Output results\n",
    "print(f\"Control Group Conversion Rate: {control_conversion_rate:.4f}\")\n",
    "print(f\"Treatment Group Conversion Rate: {treatment_conversion_rate:.4f}\")\n",
    "print(f\"Pooled Conversion Rate: {conversion_rate_pooled:.4f}\")\n",
    "print(f\"Standard Error: {se:.4f}\")\n",
    "print(f\"Z-score: {z:.4f}\")\n",
    "print(f\"P-value: {p_value:.4f}\")\n"
   ]
  },
  {
   "cell_type": "code",
   "execution_count": 17,
   "id": "d67e9be9",
   "metadata": {},
   "outputs": [
    {
     "name": "stdout",
     "output_type": "stream",
     "text": [
      "Reject the null hypothesis: The special promotion significantly increases the conversion rate.\n"
     ]
    }
   ],
   "source": [
    "# Conclusion\n",
    "if p_value < 0.05:\n",
    "    print(\"Reject the null hypothesis: The special promotion significantly increases the conversion rate.\")\n",
    "else:\n",
    "    print(\"Fail to reject the null hypothesis: There is no significant difference in conversion rate.\")"
   ]
  },
  {
   "cell_type": "code",
   "execution_count": null,
   "id": "05a922a3",
   "metadata": {},
   "outputs": [],
   "source": []
  }
 ],
 "metadata": {
  "kernelspec": {
   "display_name": "Python 3 (ipykernel)",
   "language": "python",
   "name": "python3"
  },
  "language_info": {
   "codemirror_mode": {
    "name": "ipython",
    "version": 3
   },
   "file_extension": ".py",
   "mimetype": "text/x-python",
   "name": "python",
   "nbconvert_exporter": "python",
   "pygments_lexer": "ipython3",
   "version": "3.9.13"
  }
 },
 "nbformat": 4,
 "nbformat_minor": 5
}
